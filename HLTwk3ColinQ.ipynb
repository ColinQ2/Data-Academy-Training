{
 "cells": [
  {
   "cell_type": "code",
   "execution_count": null,
   "metadata": {},
   "outputs": [],
   "source": [
    "\"\"\"\n",
    "Task 2\n",
    "As an extension to the motorbike task that costs £2000 and loses 10% of its value every ye\n",
    "using a loop, print the value of the bike every following year until it falls below £1000.\n",
    "\"\"\"\n",
    "def BikeValCal(Initial, Deprec):\n",
    "        CurValue = Initial\n",
    "        Year = 0\n",
    "        while CurValue > 1000:\n",
    "            print(\"In year\" , Year , \"the bike is worth\" , CurValue)\n",
    "            CurValue -= (CurValue * Deprec)\n",
    "            Year += 1\n",
    "\n",
    "Initial = 2000\n",
    "Deprec = 0.1\n",
    "BikeValCal(Initial,Deprec)"
   ]
  },
  {
   "cell_type": "code",
   "execution_count": 10,
   "metadata": {},
   "outputs": [
    {
     "name": "stdout",
     "output_type": "stream",
     "text": [
      "Enter 1 for +\n",
      "Enter 2 for -\n",
      "Enter 3 for /\n",
      "Enter 4 for *\n",
      "Enter 5 for **\n",
      "\n",
      " Answer = 0\n",
      "Enter 1 for +\n",
      "Enter 2 for -\n",
      "Enter 3 for /\n",
      "Enter 4 for *\n",
      "Enter 5 for **\n",
      "\n",
      " Answer = 0\n"
     ]
    }
   ],
   "source": [
    "\"\"\"\n",
    "Task 3\n",
    "Write a program which will ask for two numbers from a user. Then offer an option menu to the use\n",
    "operator they wish to use, perform the calculation by using a procedure and passing parameters. \n",
    "\"\"\"\n",
    "#Create a menu for user\n",
    "def print_menu():\n",
    "    print ('Enter 1 for +')\n",
    "    print ('Enter 2 for -')\n",
    "    print ('Enter 3 for /')\n",
    "    print ('Enter 4 for *')\n",
    "    print ('Enter 5 for **')\n",
    "\n",
    "#Create procedure to perform calculations and print the result\n",
    "def Auto_Calc(Num1, Num2, OperX):\n",
    "    import operator\n",
    "    operator_dict = {\n",
    "    1: operator.add,\n",
    "    2: operator.sub,\n",
    "    3: operator.truediv,\n",
    "    4: operator.mul,\n",
    "    5: operator.pow\n",
    "    }\n",
    "    Answer = int(operator_dict[OperX](Num1, Num2))\n",
    "    print('\\n Answer =', Answer)\n",
    "\n",
    "#Gather input as individual variables\n",
    "NumA = int(input(\"Pick a number\"))\n",
    "NumB = int(input(\"Pick another number\"))\n",
    "print_menu()\n",
    "OperY = int(input(\"Please enter your choice [1-5]: \"))\n",
    "\n",
    "#Pass to procedure\n",
    "Auto_Calc(NumA, NumB, OperY)\n",
    "\n",
    "\n",
    "# Aternative method where the inputs are gathered as a function to be passed to the same Auto_Calc procedure\n",
    "\n",
    "# def GatherInput():\n",
    "    # Num1 = int(input(\"Pick a number\"))\n",
    "    # Num2 = int(input(\"Pick another number\"))\n",
    "    # print_menu()\n",
    "    # OperX = int(input(\"Please enter your choice [1-5]: \"))\n",
    "    # return Num1, Num2, OperX\n",
    "    # \n",
    "# Number1, Number2, OperatorX =  GatherInput()\n",
    "# Auto_Calc(Number1, Number2, OperatorX)"
   ]
  }
 ],
 "metadata": {
  "interpreter": {
   "hash": "b89b5cfaba6639976dc87ff2fec6d58faec662063367e2c229c520fe71072417"
  },
  "kernelspec": {
   "display_name": "Python 3.10.0 64-bit",
   "language": "python",
   "name": "python3"
  },
  "language_info": {
   "codemirror_mode": {
    "name": "ipython",
    "version": 3
   },
   "file_extension": ".py",
   "mimetype": "text/x-python",
   "name": "python",
   "nbconvert_exporter": "python",
   "pygments_lexer": "ipython3",
   "version": "3.10.0"
  },
  "orig_nbformat": 4
 },
 "nbformat": 4,
 "nbformat_minor": 2
}
