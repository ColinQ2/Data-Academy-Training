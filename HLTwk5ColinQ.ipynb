{
 "cells": [
  {
   "cell_type": "code",
   "execution_count": null,
   "metadata": {},
   "outputs": [],
   "source": [
    "\"\"\"\n",
    "Create a CSV file of 15 holiday destinations for a website \n",
    "1. Add in a column of destinations\n",
    "2. Add in a column that shows feedback score out of 10 for that destination\n",
    "3. Add in a column for average hotel star rating for those destinations\n",
    "4. Add in a column for number of all inclusive hotels within each destination\n",
    "5. Add in the most visited city in each destination\n",
    "\"\"\"\n",
    "\n",
    "import pandas as pd\n",
    "\n",
    "#Create a CSV file of 15 holiday destinations for a website \n",
    "Data = pd.DataFrame( \n",
    "    {'Destination':['Belfast','Derry','Lisburn','Leeds','York','Dublin','Ayr','Ballyshannon','Donegal','Gola','Larne','Hull','Derby','Manchester','Conwy'],\n",
    "    'FeedbackScore':[4,7,3,7,9,3,7,9,6,9,5,8,2,7,8],\n",
    "    'AvgHotelRating':[1,2,3,4,5,1,2,3,4,5,1,2,3,4,5],\n",
    "    'AllIncHotelCount':[20,19,30,20,54,28,92,1,1,43,2,6,7,5,4],\n",
    "    'MostVisitedArea':['Area1','Area2','Area3','Area4','Area5','Area6','Area7','Area8','Area9','Area10','Area11','Area12','Area13','Area14','Area15']\n",
    "    }\n",
    ")\n",
    "display(Data)\n",
    "file = Data.to_csv('15HolidayDestinations.csv', index=False)"
   ]
  },
  {
   "cell_type": "code",
   "execution_count": null,
   "metadata": {},
   "outputs": [],
   "source": [
    "\"\"\"\n",
    "1. How many rows and columns are there in your file?\n",
    "2. Print row 3 8 ( using iloc loc\n",
    "3. Find the mean number of all inclusive hotels across all destinations.\n",
    "4. Find the lowest scoring destination.\n",
    "5. Find the highest scoring destination.\n",
    "6. Find all the destinations where there are more than 9 all inclusive hotels.\n",
    "7. Filter the data by score above 8.\n",
    "8. Filter the data score below 2 ( I need to know if these destinations should be removed or there is a problem)\n",
    "\"\"\"\n",
    "\n",
    "#1. How many rows and columns are there in your file?\n",
    "print(\"#1:\", Data.shape)\n",
    "\n",
    "#2. Print row 3-8 ( using iloc loc)\n",
    "print(\"#2:\", Data.iloc[2:7,0:4])\n",
    "\n",
    "# 3. Find the mean number of all inclusive hotels across all destinations.\n",
    "print(\"#3:\", Data[\"AllIncHotelCount\"].mean())\n",
    "\n",
    "#4. Find the lowest scoring destination.\n",
    "print(\"#4:\", Data[\"FeedbackScore\"].min())\n",
    "\n",
    "#5. Find the highest scoring destination.\n",
    "print(\"#5:\", Data[\"FeedbackScore\"].max())\n",
    "\n",
    "#6. Find all the destinations where there are more than 9 all inclusive hotels.\n",
    "print(\"#6:\", sum(Data['AllIncHotelCount'] > 9))\n",
    "\n",
    "#7. Filter the data by score above 8.\n",
    "FilterX = Data[\"FeedbackScore\"] > 8 \n",
    "FilteredData = Data[FilterX]\n",
    "print(\"#7:\", FilteredData)\n",
    "\n",
    "#8. Filter the data score below 2 ( I need to know if these destinations should be removed or there is a problem)\n",
    "FilterY = Data[\"FeedbackScore\"] < 2 \n",
    "FilteredDataY = Data[FilterY]\n",
    "print(\"#8:\", FilteredDataY)"
   ]
  },
  {
   "cell_type": "code",
   "execution_count": 67,
   "metadata": {},
   "outputs": [
    {
     "name": "stdout",
     "output_type": "stream",
     "text": [
      "Not correlated 0.14229710658504532\n"
     ]
    },
    {
     "data": {
      "text/plain": [
       "<AxesSubplot:xlabel='Destination'>"
      ]
     },
     "execution_count": 67,
     "metadata": {},
     "output_type": "execute_result"
    },
    {
     "data": {
      "image/png": "[encoded data removed]",
      "text/plain": [
       "<Figure size 432x288 with 1 Axes>"
      ]
     },
     "metadata": {
      "needs_background": "light"
     },
     "output_type": "display_data"
    }
   ],
   "source": [
    "\"\"\"\n",
    "Extension\n",
    "1. Is there a correlation between number of all inclusive hotels and score?\n",
    "2. Create a data visualisation diagram to show destination and highest scores?\n",
    "\"\"\"\n",
    "#Extension\n",
    "#1. Is there a correlation between number of all inclusive hotels and score?\n",
    "Correl = Data[\"AllIncHotelCount\"].corr(Data[\"FeedbackScore\"]) \n",
    "if Correl > 0.6:\n",
    "    print(\"Correlated\", Correl)\n",
    "else:\n",
    "    print(\"Not correlated\", Correl)\n",
    "\n",
    "#2. Create a data visualisation diagram to show destination and highest scores?\n",
    "Data.plot.bar(x=\"Destination\", y=\"FeedbackScore\")"
   ]
  }
 ],
 "metadata": {
  "interpreter": {
   "hash": "b89b5cfaba6639976dc87ff2fec6d58faec662063367e2c229c520fe71072417"
  },
  "kernelspec": {
   "display_name": "Python 3.10.0 64-bit",
   "language": "python",
   "name": "python3"
  },
  "language_info": {
   "codemirror_mode": {
    "name": "ipython",
    "version": 3
   },
   "file_extension": ".py",
   "mimetype": "text/x-python",
   "name": "python",
   "nbconvert_exporter": "python",
   "pygments_lexer": "ipython3",
   "version": "3.10.0"
  },
  "orig_nbformat": 4
 },
 "nbformat": 4,
 "nbformat_minor": 2
}
